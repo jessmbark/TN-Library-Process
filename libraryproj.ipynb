{
 "cells": [
  {
   "cell_type": "code",
   "execution_count": 1,
   "id": "6c69fee6-7d92-44d0-9094-31662a23429c",
   "metadata": {},
   "outputs": [],
   "source": [
    "import pandas as pd\n",
    "df = pd.read_csv('tnlibraries.csv',na_values=[-1])"
   ]
  },
  {
   "cell_type": "code",
   "execution_count": 2,
   "id": "3fd697ce-8247-4c0b-acca-7249a8f2a37f",
   "metadata": {},
   "outputs": [],
   "source": [
    "#Minor cleaning so I can do math about kids in libraries\n",
    "df['1.38 Total Registered Borrowers (1.36 + 1.37)'] = df['1.38 Total Registered Borrowers (1.36 + 1.37)'].replace(',', '', regex=True)"
   ]
  },
  {
   "cell_type": "code",
   "execution_count": 3,
   "id": "5a5dd5f7-bea4-4709-8d20-901e143cacfd",
   "metadata": {},
   "outputs": [],
   "source": [
    "df['1.38 Total Registered Borrowers (1.36 + 1.37)']=df['1.38 Total Registered Borrowers (1.36 + 1.37)'].astype(float)"
   ]
  },
  {
   "cell_type": "code",
   "execution_count": 4,
   "id": "2a31dbe0-c451-447b-8be8-64be14798a90",
   "metadata": {},
   "outputs": [],
   "source": [
    "#This way, I can get proportion from total kids and total borrowers\n",
    "total_borrowers=df['1.38 Total Registered Borrowers (1.36 + 1.37)'].sum()"
   ]
  },
  {
   "cell_type": "code",
   "execution_count": 5,
   "id": "8bad4bf3-a22d-4c07-a25f-010527151a70",
   "metadata": {},
   "outputs": [],
   "source": [
    "df['1.37 Child Borrowers']= df['1.37 Child Borrowers'].replace(',', '', regex=True)\n",
    "df['1.37 Child Borrowers']=df['1.37 Child Borrowers'].astype(float)"
   ]
  },
  {
   "cell_type": "code",
   "execution_count": 6,
   "id": "f359f6ba-2d06-43a4-b373-eaabdf80d01d",
   "metadata": {},
   "outputs": [
    {
     "data": {
      "text/plain": [
       "687774.0"
      ]
     },
     "execution_count": 6,
     "metadata": {},
     "output_type": "execute_result"
    }
   ],
   "source": [
    "total_children=df['1.37 Child Borrowers'].sum()\n",
    "total_children"
   ]
  },
  {
   "cell_type": "code",
   "execution_count": 7,
   "id": "d6259a37-2723-4a33-b873-3a7d9aa59949",
   "metadata": {},
   "outputs": [
    {
     "data": {
      "text/plain": [
       "22.329976675688172"
      ]
     },
     "execution_count": 7,
     "metadata": {},
     "output_type": "execute_result"
    }
   ],
   "source": [
    "pct_children =((total_children/total_borrowers)*100)\n",
    "pct_children"
   ]
  },
  {
   "cell_type": "code",
   "execution_count": 8,
   "id": "b98baae2-f4d9-47a5-a75b-32c118145f7a",
   "metadata": {},
   "outputs": [
    {
     "data": {
      "text/plain": [
       "2.20 Do you have a paid Children's &/or Young Adult Services Librarian?\n",
       "No     104\n",
       "Yes     82\n",
       "Name: count, dtype: int64"
      ]
     },
     "execution_count": 8,
     "metadata": {},
     "output_type": "execute_result"
    }
   ],
   "source": [
    "#I hope at least twenty percent of libraries have a paid children's librarian\n",
    "df['''2.20 Do you have a paid Children's &/or Young Adult Services Librarian?'''].value_counts()"
   ]
  },
  {
   "cell_type": "code",
   "execution_count": 9,
   "id": "87bbe28e-16dd-4880-91a2-629417e8106f",
   "metadata": {},
   "outputs": [
    {
     "data": {
      "text/plain": [
       "1.0"
      ]
     },
     "execution_count": 9,
     "metadata": {},
     "output_type": "execute_result"
    }
   ],
   "source": [
    "#Wow okay how many librarians is each library working with though\n",
    "df['2.13 Total Librarians (2.1 + 2.4)']=df['2.13 Total Librarians (2.1 + 2.4)'].replace(',', '', regex=True)\n",
    "df['2.13 Total Librarians (2.1 + 2.4)']=df['2.13 Total Librarians (2.1 + 2.4)'].astype(float)\n",
    "df['2.13 Total Librarians (2.1 + 2.4)'].median()"
   ]
  },
  {
   "cell_type": "code",
   "execution_count": 10,
   "id": "0de36aa4-1808-43be-9b9c-0b3b9a834102",
   "metadata": {},
   "outputs": [
    {
     "data": {
      "text/plain": [
       "26694.5"
      ]
     },
     "execution_count": 10,
     "metadata": {},
     "output_type": "execute_result"
    }
   ],
   "source": [
    "#I think I can do another proportion but with circulation - is it 20%?\n",
    "df['4.5 Total Circulation (4.3+4.4)']=df['4.5 Total Circulation (4.3+4.4)'].replace(',', '', regex=True)\n",
    "df['4.5 Total Circulation (4.3+4.4)']=df['4.5 Total Circulation (4.3+4.4)'].astype(float)\n",
    "df['4.5 Total Circulation (4.3+4.4)'].median()"
   ]
  },
  {
   "cell_type": "code",
   "execution_count": 11,
   "id": "54bcb636-798f-4af1-9014-32a807d98a51",
   "metadata": {},
   "outputs": [
    {
     "data": {
      "text/plain": [
       "5157.5"
      ]
     },
     "execution_count": 11,
     "metadata": {},
     "output_type": "execute_result"
    }
   ],
   "source": [
    "df['''4.4 Children's Circulation (includes both physical and electronic formats)''']=df['''4.4 Children's Circulation (includes both physical and electronic formats)'''].replace(',', '', regex=True)\n",
    "df['''4.4 Children's Circulation (includes both physical and electronic formats)''']=df['''4.4 Children's Circulation (includes both physical and electronic formats)'''].astype(float)\n",
    "df['''4.4 Children's Circulation (includes both physical and electronic formats)'''].median()"
   ]
  },
  {
   "cell_type": "code",
   "execution_count": 12,
   "id": "eff7d0fa-af3f-4f7c-87ec-38ac79f4f9a0",
   "metadata": {},
   "outputs": [],
   "source": [
    "df['Circulation_per_child']=df['''4.4 Children's Circulation (includes both physical and electronic formats)'''] / df['1.37 Child Borrowers']"
   ]
  },
  {
   "cell_type": "code",
   "execution_count": 13,
   "id": "8f9877c9-c0e5-48e9-b9cc-8bcd82848c3e",
   "metadata": {},
   "outputs": [
    {
     "data": {
      "text/plain": [
       "3.7937381002750157"
      ]
     },
     "execution_count": 13,
     "metadata": {},
     "output_type": "execute_result"
    }
   ],
   "source": [
    "df['Circulation_per_child'].median()\n",
    "#But this doesn't consider that adults may check out children's material, so not going to use"
   ]
  },
  {
   "cell_type": "code",
   "execution_count": 14,
   "id": "9b436fb3-366a-40b2-936d-8e1c2955e9e0",
   "metadata": {},
   "outputs": [
    {
     "data": {
      "text/plain": [
       "7.0"
      ]
     },
     "execution_count": 14,
     "metadata": {},
     "output_type": "execute_result"
    }
   ],
   "source": [
    "#I wish the program and attendance columns were actually complete for the FY lol\n",
    "df['Number of Summer Reading Program events held']=df['Number of Summer Reading Program events held'].replace(',', '', regex=True)\n",
    "df['Number of Summer Reading Program events held']=df['Number of Summer Reading Program events held'].astype(float)\n",
    "df['Number of Summer Reading Program events held'].median()"
   ]
  },
  {
   "cell_type": "code",
   "execution_count": 15,
   "id": "3c667d87-6fc0-4fab-9090-6da15425d48f",
   "metadata": {},
   "outputs": [
    {
     "data": {
      "text/plain": [
       "4585.0"
      ]
     },
     "execution_count": 15,
     "metadata": {},
     "output_type": "execute_result"
    }
   ],
   "source": [
    "df['Number of Summer Reading Program events held'].sum()"
   ]
  },
  {
   "cell_type": "code",
   "execution_count": 16,
   "id": "665a0e4c-f25f-409e-bb1e-9a92f71d77bf",
   "metadata": {},
   "outputs": [],
   "source": [
    "df['4.70 Summer Reading Program Budget']=df['4.70 Summer Reading Program Budget'].str.replace('$', '')"
   ]
  },
  {
   "cell_type": "code",
   "execution_count": 17,
   "id": "a9e5e807-c7af-4d4b-bb59-5c6fb03926f6",
   "metadata": {},
   "outputs": [],
   "source": [
    "df['4.70 Summer Reading Program Budget']=df['4.70 Summer Reading Program Budget'].replace(',', '',regex=True)"
   ]
  },
  {
   "cell_type": "code",
   "execution_count": 18,
   "id": "6fd4565b-b8fb-4033-a544-9f83631fc799",
   "metadata": {},
   "outputs": [
    {
     "data": {
      "text/plain": [
       "900.0"
      ]
     },
     "execution_count": 18,
     "metadata": {},
     "output_type": "execute_result"
    }
   ],
   "source": [
    "df['4.70 Summer Reading Program Budget']=df['4.70 Summer Reading Program Budget'].astype(float)\n",
    "df['4.70 Summer Reading Program Budget'].median()"
   ]
  },
  {
   "cell_type": "code",
   "execution_count": 19,
   "id": "dc770897-9c33-4ea1-a43a-08d6a493947e",
   "metadata": {},
   "outputs": [
    {
     "data": {
      "text/plain": [
       "4.73 Did you use the marketing tools provided by Cooperative Summer Learning Program (CSLP) to  advertise your Summer Reading Program? This includes posters, logos, banners, and the Public  Service Announcement.\n",
       "Yes    155\n",
       "No      28\n",
       "Name: count, dtype: int64"
      ]
     },
     "execution_count": 19,
     "metadata": {},
     "output_type": "execute_result"
    }
   ],
   "source": [
    "#I think this analysis on the Summer Reading Program events will have to suffice.\n",
    "df['4.73 Did you use the marketing tools provided by Cooperative Summer Learning Program (CSLP) to  advertise your Summer Reading Program? This includes posters, logos, banners, and the Public  Service Announcement.'].value_counts()"
   ]
  }
 ],
 "metadata": {
  "kernelspec": {
   "display_name": "Python 3 (ipykernel)",
   "language": "python",
   "name": "python3"
  },
  "language_info": {
   "codemirror_mode": {
    "name": "ipython",
    "version": 3
   },
   "file_extension": ".py",
   "mimetype": "text/x-python",
   "name": "python",
   "nbconvert_exporter": "python",
   "pygments_lexer": "ipython3",
   "version": "3.11.8"
  }
 },
 "nbformat": 4,
 "nbformat_minor": 5
}
